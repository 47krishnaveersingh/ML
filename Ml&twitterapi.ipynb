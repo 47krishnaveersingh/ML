{
  "nbformat": 4,
  "nbformat_minor": 0,
  "metadata": {
    "colab": {
      "name": "Ml&twitterapi.ipynb",
      "provenance": [],
      "authorship_tag": "ABX9TyN3m5lcM26ZHi3+GpdCFfQA",
      "include_colab_link": true
    },
    "kernelspec": {
      "name": "python3",
      "display_name": "Python 3"
    }
  },
  "cells": [
    {
      "cell_type": "markdown",
      "metadata": {
        "id": "view-in-github",
        "colab_type": "text"
      },
      "source": [
        "<a href=\"https://colab.research.google.com/github/47krishnaveersingh/ML/blob/master/Ml%26twitterapi.ipynb\" target=\"_parent\"><img src=\"https://colab.research.google.com/assets/colab-badge.svg\" alt=\"Open In Colab\"/></a>"
      ]
    },
    {
      "cell_type": "code",
      "metadata": {
        "id": "Kj5_E7KggtZz",
        "colab_type": "code",
        "colab": {}
      },
      "source": [
        "#Instaling Twitter Module\n",
        "# !pip install tweepy\n",
        "import tweepy"
      ],
      "execution_count": 0,
      "outputs": []
    },
    {
      "cell_type": "code",
      "metadata": {
        "id": "gYn6gGZ9hHiC",
        "colab_type": "code",
        "colab": {}
      },
      "source": [
        "#defining variables\n",
        "#Consumer Key \n",
        "consumer_key=''\n",
        "consumer_sec=''\n",
        "#access Details\n",
        "acess_key=''\n",
        "acess_sec=''"
      ],
      "execution_count": 0,
      "outputs": []
    },
    {
      "cell_type": "code",
      "metadata": {
        "id": "I0wEPn-zhjL9",
        "colab_type": "code",
        "colab": {}
      },
      "source": [
        "#lets connect at First auth by using consumer detils\n",
        "# dir(tweepy)\n",
        "first_auth=tweepy.OAuthHandler(consumer_key,consumer_sec)\n"
      ],
      "execution_count": 0,
      "outputs": []
    },
    {
      "cell_type": "code",
      "metadata": {
        "id": "GQeJr_wWiG04",
        "colab_type": "code",
        "colab": {}
      },
      "source": [
        "#now setting Second level Of auth\n",
        "first_auth.set_access_token(acess_key,acess_sec)"
      ],
      "execution_count": 0,
      "outputs": []
    },
    {
      "cell_type": "code",
      "metadata": {
        "id": "LJQKKWELifrW",
        "colab_type": "code",
        "colab": {}
      },
      "source": [
        "#pointing Auth to datastore\n",
        "storage_api_connect=tweepy.API(first_auth,timeout=10) #now after this step we can browse \\search data frow tweets"
      ],
      "execution_count": 0,
      "outputs": []
    },
    {
      "cell_type": "code",
      "metadata": {
        "id": "kHbFMaHzjL8E",
        "colab_type": "code",
        "colab": {}
      },
      "source": [
        "#now Searching Data as request and Waiting for reply\n",
        "#first method \n",
        "# tweet_data=storage_api_connect.search('corona',count=25)\n",
        "\n",
        "#second method\n",
        "search_data=['corona'] #search list\n",
        "list_of_tweets=[] #tweet data store\n",
        "\n",
        "if len(search_data)==1:\n",
        "  for tweetdata in tweepy.cursor(storage_api_connect.search,q=search_data[0]-' -filter:retweets',lang='en',result_type='recent').items(100):\n",
        "    list_of_tweets.append(tweetdata.text)\n",
        "    print(tweetdata.text)\n",
        "\n",
        "#print(list_of_tweets)"
      ],
      "execution_count": 0,
      "outputs": []
    },
    {
      "cell_type": "code",
      "metadata": {
        "id": "vWzDvTaLj7pZ",
        "colab_type": "code",
        "colab": {}
      },
      "source": [
        "#  use for loop\n",
        "#for  data   in   tweet_data:\n",
        "# print(data.text)"
      ],
      "execution_count": 0,
      "outputs": []
    }
  ]
}